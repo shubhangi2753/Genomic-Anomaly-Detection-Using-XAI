{
 "cells": [
  {
   "cell_type": "code",
   "execution_count": 1,
   "id": "fa319335",
   "metadata": {},
   "outputs": [
    {
     "ename": "ModuleNotFoundError",
     "evalue": "No module named 'requests'",
     "output_type": "error",
     "traceback": [
      "\u001b[31m---------------------------------------------------------------------------\u001b[39m",
      "\u001b[31mModuleNotFoundError\u001b[39m                       Traceback (most recent call last)",
      "\u001b[36mCell\u001b[39m\u001b[36m \u001b[39m\u001b[32mIn[1]\u001b[39m\u001b[32m, line 4\u001b[39m\n\u001b[32m      2\u001b[39m \u001b[38;5;28;01mimport\u001b[39;00m\u001b[38;5;250m \u001b[39m\u001b[34;01mgzip\u001b[39;00m\n\u001b[32m      3\u001b[39m \u001b[38;5;28;01mimport\u001b[39;00m\u001b[38;5;250m \u001b[39m\u001b[34;01mshutil\u001b[39;00m\n\u001b[32m----> \u001b[39m\u001b[32m4\u001b[39m \u001b[38;5;28;01mimport\u001b[39;00m\u001b[38;5;250m \u001b[39m\u001b[34;01mrequests\u001b[39;00m\n\u001b[32m      5\u001b[39m \u001b[38;5;28;01mimport\u001b[39;00m\u001b[38;5;250m \u001b[39m\u001b[34;01mpandas\u001b[39;00m\u001b[38;5;250m \u001b[39m\u001b[38;5;28;01mas\u001b[39;00m\u001b[38;5;250m \u001b[39m\u001b[34;01mpd\u001b[39;00m\n\u001b[32m      6\u001b[39m \u001b[38;5;28;01mfrom\u001b[39;00m\u001b[38;5;250m \u001b[39m\u001b[34;01mtqdm\u001b[39;00m\u001b[38;5;250m \u001b[39m\u001b[38;5;28;01mimport\u001b[39;00m tqdm\n",
      "\u001b[31mModuleNotFoundError\u001b[39m: No module named 'requests'"
     ]
    }
   ],
   "source": [
    "import os\n",
    "import gzip\n",
    "import shutil\n",
    "import requests\n",
    "import pandas as pd\n",
    "from tqdm import tqdm\n",
    "\n",
    "# Create a data folder\n",
    "os.makedirs(\"ncbi_gene_data\", exist_ok=True)\n",
    "\n",
    "# Base NCBI Gene data URL\n",
    "base_url = \"https://ftp.ncbi.nlm.nih.gov/gene/DATA/\"\n",
    "\n",
    "# Files to download\n",
    "files_to_download = [\n",
    "    \"gene_info.gz\",\n",
    "    \"gene2accession.gz\",\n",
    "    \"gene2refseq.gz\",\n",
    "    \"gene2pubmed.gz\",\n",
    "    \"gene_summary.gz\",\n",
    "    \"mim2gene_medgen\",\n",
    "    \"go_process.xml\"\n",
    "]\n",
    "\n",
    "def download_and_extract(file_name):\n",
    "    gz_path = f\"ncbi_gene_data/{file_name}\"\n",
    "    extracted_path = gz_path.replace(\".gz\", \"\")\n",
    "\n",
    "    # Download\n",
    "    print(f\"Downloading: {file_name}\")\n",
    "    response = requests.get(base_url + file_name, stream=True)\n",
    "    with open(gz_path, 'wb') as f:\n",
    "        shutil.copyfileobj(response.raw, f)\n",
    "\n",
    "    # Extract if .gz\n",
    "    if file_name.endswith(\".gz\"):\n",
    "        print(f\"Extracting: {file_name}\")\n",
    "        with gzip.open(gz_path, 'rb') as f_in, open(extracted_path, 'wb') as f_out:\n",
    "            shutil.copyfileobj(f_in, f_out)\n",
    "\n",
    "    return extracted_path\n",
    "\n",
    "# Step 1: Download and extract\n",
    "extracted_files = []\n",
    "for file in tqdm(files_to_download):\n",
    "    path = download_and_extract(file)\n",
    "    extracted_files.append(path)\n",
    "\n",
    "# Step 2: Load gene_info as example\n",
    "gene_info_path = [f for f in extracted_files if \"gene_info\" in f][0]\n",
    "columns = [\n",
    "    \"tax_id\", \"GeneID\", \"Symbol\", \"LocusTag\", \"Synonyms\", \"dbXrefs\",\n",
    "    \"chromosome\", \"map_location\", \"description\", \"type_of_gene\",\n",
    "    \"Symbol_from_nomenclature_authority\", \"Full_name_from_nomenclature_authority\",\n",
    "    \"Nomenclature_status\", \"Other_designations\", \"Modification_date\", \"Feature_type\"\n",
    "]\n",
    "\n",
    "print(f\"\\nReading gene_info from: {gene_info_path}\")\n",
    "df_gene_info = pd.read_csv(gene_info_path, sep=\"\\t\", comment=\"#\", names=columns, low_memory=False)\n",
    "print(df_gene_info.head())\n",
    "\n",
    "# Step 3: Save to CSV\n",
    "df_gene_info.to_csv(\"ncbi_gene_data/gene_info_cleaned.csv\", index=False)\n",
    "print(\"Saved cleaned gene_info to CSV.\")\n",
    "\n",
    "# Repeat similar steps to process other files if needed\n"
   ]
  },
  {
   "cell_type": "code",
   "execution_count": null,
   "id": "c98e4324",
   "metadata": {},
   "outputs": [],
   "source": []
  }
 ],
 "metadata": {
  "kernelspec": {
   "display_name": ".venv",
   "language": "python",
   "name": "python3"
  },
  "language_info": {
   "codemirror_mode": {
    "name": "ipython",
    "version": 3
   },
   "file_extension": ".py",
   "mimetype": "text/x-python",
   "name": "python",
   "nbconvert_exporter": "python",
   "pygments_lexer": "ipython3",
   "version": "3.12.3"
  }
 },
 "nbformat": 4,
 "nbformat_minor": 5
}
